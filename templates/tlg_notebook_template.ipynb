{
 "cells": [
  {
   "cell_type": "markdown",
   "metadata": {},
   "source": [
    "# 📊 TLG Analysis Notebook\n",
    "- **TLG ID**: {{TLG_ID}}\n",
    "- **Title**: {{TITLE}}\n",
    "- **Programmer**: {{PROGRAMMER}}\n",
    "- **QC Reviewer**: {{QC_REVIEWER}}\n"
   ]
  },
  {
   "cell_type": "code",
   "metadata": {},
   "source": [
    "# Load ADaM datasets\n",
    "# df_adsl = spark.read.format(\"delta\").table(\"adam.adsl\")"
   ]
  }
 ],
 "metadata": {
  "kernelspec": {
   "display_name": "Python 3",
   "language": "python",
   "name": "python3"
  }
 },
 "nbformat": 4,
 "nbformat_minor": 5
}
